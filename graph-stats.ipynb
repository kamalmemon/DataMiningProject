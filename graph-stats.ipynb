{
 "cells": [
  {
   "cell_type": "code",
   "execution_count": 38,
   "metadata": {
    "collapsed": true
   },
   "outputs": [],
   "source": [
    "import networkx as nx\n",
    "import matplotlib.pyplot as plt\n",
    "import numpy as np\n",
    "import time\n",
    "import random"
   ]
  },
  {
   "cell_type": "code",
   "execution_count": 39,
   "metadata": {
    "collapsed": true
   },
   "outputs": [],
   "source": [
    "FILE_PATH_PREFIX = './data/';"
   ]
  },
  {
   "cell_type": "code",
   "execution_count": 40,
   "metadata": {
    "collapsed": true
   },
   "outputs": [],
   "source": [
    "def readEdgeFromFile(filename, comments=' ', delimiter='\\t'):\n",
    "    G = nx.read_edgelist(FILE_PATH_PREFIX + filename, comments=comments, \n",
    "                         delimiter=delimiter, nodetype=int,create_using=nx.DiGraph())\n",
    "    unG = G.to_undirected();\n",
    "    return G, unG;"
   ]
  },
  {
   "cell_type": "code",
   "execution_count": 41,
   "metadata": {
    "collapsed": true
   },
   "outputs": [],
   "source": [
    "def largestStronglyConnecteComponentSubGraph(dGraph):\n",
    "    return max(nx.strongly_connected_component_subgraphs(directedGraph), key= len) "
   ]
  },
  {
   "cell_type": "code",
   "execution_count": 42,
   "metadata": {
    "collapsed": true
   },
   "outputs": [],
   "source": [
    "def largestWeaklyConnecteComponentSubGraph(dGraph):\n",
    "    directedLwcc = max(nx.weakly_connected_component_subgraphs(dGraph), key= len) ;\n",
    "    return directedLwcc;"
   ]
  },
  {
   "cell_type": "code",
   "execution_count": 43,
   "metadata": {
    "collapsed": true
   },
   "outputs": [],
   "source": [
    "def getShortestPathDistribution(ccGraph):\n",
    "    p = nx.all_pairs_shortest_path_length(ccGraph);\n",
    "    pList = list(p);\n",
    "    shortestPaths = np.array([],dtype=int);\n",
    "    for node in range(len(pList)):\n",
    "        shortestPaths = np.append(shortestPaths,np.array(list(pList[node][1].values())[1:], dtype=int));\n",
    "    return shortestPaths"
   ]
  },
  {
   "cell_type": "code",
   "execution_count": 44,
   "metadata": {
    "collapsed": true
   },
   "outputs": [],
   "source": [
    "def getRandomShortestPathDistribution(ccGraph, numOfSamples):\n",
    "    graphnodes = list(ccGraph.nodes())\n",
    "    nodesLength = len(graphnodes)-1\n",
    "    shortestPaths = []\n",
    "    for i in range(numOfSamples):\n",
    "        try:\n",
    "            shortestPaths.append(nx.shortest_path_length(ccGraph, \n",
    "                                                     graphnodes[random.randint(0, nodesLength)],\n",
    "                                                     graphnodes[random.randint(0, nodesLength)]))\n",
    "        except:\n",
    "            pass\n",
    "    return np.array(shortestPaths)"
   ]
  },
  {
   "cell_type": "code",
   "execution_count": 50,
   "metadata": {
    "collapsed": true
   },
   "outputs": [],
   "source": [
    "def getRandomSourcesSPDistribution(ccGraph, numOfSamples):\n",
    "    graphnodes = list(ccGraph.nodes())\n",
    "    nodesLength = len(graphnodes)-1\n",
    "    shortestPaths = []\n",
    "    for i in range(numOfSamples):\n",
    "        try:\n",
    "            shortestPaths = shortestPaths + list(nx.single_source_shortest_path_length(\n",
    "                ccGraph,\n",
    "                graphnodes[random.randint(0, nodesLength)]).values())[1:]\n",
    "        except:\n",
    "            pass\n",
    "    return np.array(shortestPaths)"
   ]
  },
  {
   "cell_type": "code",
   "execution_count": 45,
   "metadata": {
    "collapsed": true
   },
   "outputs": [],
   "source": [
    "def getStatisticsForDistribution(dist):\n",
    "    dist_mean = np.mean(dist);\n",
    "    dist_median = np.percentile(dist, 50);\n",
    "    dist_diameter = max(dist);\n",
    "    dist_eff_diameter = np.percentile(dist, 90);\n",
    "    return dist_mean, dist_median, dist_diameter, dist_eff_diameter "
   ]
  },
  {
   "cell_type": "code",
   "execution_count": 46,
   "metadata": {},
   "outputs": [
    {
     "name": "stdout",
     "output_type": "stream",
     "text": [
      "CPU times: user 748 ms, sys: 16 ms, total: 764 ms\n",
      "Wall time: 764 ms\n"
     ]
    }
   ],
   "source": [
    "%%time\n",
    "directedGraph, undirectedGraph = readEdgeFromFile('Wiki-Vote.txt', comments='#', delimiter='\\t')"
   ]
  },
  {
   "cell_type": "code",
   "execution_count": 47,
   "metadata": {},
   "outputs": [
    {
     "name": "stdout",
     "output_type": "stream",
     "text": [
      "CPU times: user 15.4 s, sys: 0 ns, total: 15.4 s\n",
      "Wall time: 15.4 s\n"
     ]
    }
   ],
   "source": [
    "%%time\n",
    "lscc = largestStronglyConnecteComponentSubGraph(directedGraph);"
   ]
  },
  {
   "cell_type": "code",
   "execution_count": 48,
   "metadata": {},
   "outputs": [
    {
     "name": "stdout",
     "output_type": "stream",
     "text": [
      "CPU times: user 568 ms, sys: 16 ms, total: 584 ms\n",
      "Wall time: 578 ms\n"
     ]
    }
   ],
   "source": [
    "%%time\n",
    "lwcc = largestWeaklyConnecteComponentSubGraph(directedGraph);"
   ]
  },
  {
   "cell_type": "code",
   "execution_count": 49,
   "metadata": {},
   "outputs": [
    {
     "data": {
      "text/plain": [
       "103663"
      ]
     },
     "execution_count": 49,
     "metadata": {},
     "output_type": "execute_result"
    }
   ],
   "source": [
    "len(lwcc.edges())"
   ]
  },
  {
   "cell_type": "markdown",
   "metadata": {},
   "source": [
    "### Random Pairs LSCC Stats"
   ]
  },
  {
   "cell_type": "code",
   "execution_count": 32,
   "metadata": {},
   "outputs": [
    {
     "name": "stdout",
     "output_type": "stream",
     "text": [
      "2.8902\n",
      "3.0\n",
      "9\n",
      "4.0\n",
      "CPU times: user 236 ms, sys: 0 ns, total: 236 ms\n",
      "Wall time: 231 ms\n"
     ]
    }
   ],
   "source": [
    "%%time\n",
    "mean, median, diameter, eff_diameter = getStatisticsForDistribution(\n",
    "    getRandomShortestPathDistribution(lscc, 5000));\n",
    "print(mean);\n",
    "print(median);\n",
    "print(diameter);\n",
    "print(eff_diameter);"
   ]
  },
  {
   "cell_type": "markdown",
   "metadata": {},
   "source": [
    "### Random Pairs LWCC Stats"
   ]
  },
  {
   "cell_type": "code",
   "execution_count": 37,
   "metadata": {},
   "outputs": [
    {
     "name": "stdout",
     "output_type": "stream",
     "text": [
      "3.3577092511\n",
      "3.0\n",
      "6\n",
      "4.0\n",
      "CPU times: user 180 ms, sys: 4 ms, total: 184 ms\n",
      "Wall time: 182 ms\n"
     ]
    }
   ],
   "source": [
    "%%time\n",
    "mean, median, diameter, eff_diameter = getStatisticsForDistribution(\n",
    "    getRandomShortestPathDistribution(lwcc, 5000));\n",
    "print(mean);\n",
    "print(median);\n",
    "print(diameter);\n",
    "print(eff_diameter);"
   ]
  },
  {
   "cell_type": "markdown",
   "metadata": {},
   "source": [
    "### Random Sources LSCC Stats"
   ]
  },
  {
   "cell_type": "code",
   "execution_count": 51,
   "metadata": {},
   "outputs": [
    {
     "name": "stdout",
     "output_type": "stream",
     "text": [
      "2.8881160893\n",
      "3.0\n",
      "9\n",
      "4.0\n",
      "CPU times: user 2min 9s, sys: 6.41 s, total: 2min 16s\n",
      "Wall time: 2min 16s\n"
     ]
    }
   ],
   "source": [
    "%%time\n",
    "mean, median, diameter, eff_diameter = getStatisticsForDistribution(\n",
    "    getRandomSourcesSPDistribution(lscc, 5000));\n",
    "print(mean);\n",
    "print(median);\n",
    "print(diameter);\n",
    "print(eff_diameter);"
   ]
  },
  {
   "cell_type": "markdown",
   "metadata": {},
   "source": [
    "### Random Sources LWCC Stats"
   ]
  },
  {
   "cell_type": "code",
   "execution_count": 52,
   "metadata": {},
   "outputs": [
    {
     "name": "stdout",
     "output_type": "stream",
     "text": [
      "3.32935495131\n",
      "3.0\n",
      "8\n",
      "4.0\n",
      "CPU times: user 2min 28s, sys: 10.6 s, total: 2min 38s\n",
      "Wall time: 2min 38s\n"
     ]
    }
   ],
   "source": [
    "%%time\n",
    "mean, median, diameter, eff_diameter = getStatisticsForDistribution(\n",
    "    getRandomSourcesSPDistribution(lwcc, 5000));\n",
    "print(mean);\n",
    "print(median);\n",
    "print(diameter);\n",
    "print(eff_diameter);"
   ]
  },
  {
   "cell_type": "markdown",
   "metadata": {},
   "source": [
    "### Exact LSCC stats"
   ]
  },
  {
   "cell_type": "code",
   "execution_count": 14,
   "metadata": {},
   "outputs": [
    {
     "name": "stdout",
     "output_type": "stream",
     "text": [
      "CPU times: user 16.6 s, sys: 772 ms, total: 17.4 s\n",
      "Wall time: 17.4 s\n"
     ]
    }
   ],
   "source": [
    "%%time\n",
    "lscc_shortest_paths = getShortestPathDistribution(lscc);"
   ]
  },
  {
   "cell_type": "code",
   "execution_count": 15,
   "metadata": {},
   "outputs": [
    {
     "name": "stdout",
     "output_type": "stream",
     "text": [
      "2.87928288032\n",
      "3.0\n",
      "9\n",
      "4.0\n"
     ]
    }
   ],
   "source": [
    "mean, median, diameter, eff_diameter = getStatisticsForDistribution(lscc_shortest_paths)\n",
    "print(mean);\n",
    "print(median);\n",
    "print(diameter);\n",
    "print(eff_diameter);"
   ]
  },
  {
   "cell_type": "markdown",
   "metadata": {},
   "source": [
    "### Exact LWCC stats"
   ]
  },
  {
   "cell_type": "code",
   "execution_count": 17,
   "metadata": {},
   "outputs": [
    {
     "name": "stdout",
     "output_type": "stream",
     "text": [
      "CPU times: user 2min 16s, sys: 20.8 s, total: 2min 37s\n",
      "Wall time: 2min 37s\n"
     ]
    }
   ],
   "source": [
    "%%time\n",
    "lwcc_shortest_paths = getShortestPathDistribution(lwcc);"
   ]
  },
  {
   "cell_type": "code",
   "execution_count": 12,
   "metadata": {},
   "outputs": [
    {
     "name": "stdout",
     "output_type": "stream",
     "text": [
      "3.24750999023\n",
      "3.0\n",
      "7\n",
      "4.0\n"
     ]
    }
   ],
   "source": [
    "mean, median, diameter, eff_diameter = getStatisticsForDistribution(lwcc_shortest_paths)\n",
    "print(mean);\n",
    "print(median);\n",
    "print(diameter);\n",
    "print(eff_diameter);"
   ]
  }
 ],
 "metadata": {
  "kernelspec": {
   "display_name": "Python 3",
   "language": "python",
   "name": "python3"
  },
  "language_info": {
   "codemirror_mode": {
    "name": "ipython",
    "version": 3
   },
   "file_extension": ".py",
   "mimetype": "text/x-python",
   "name": "python",
   "nbconvert_exporter": "python",
   "pygments_lexer": "ipython3",
   "version": "3.6.3"
  }
 },
 "nbformat": 4,
 "nbformat_minor": 2
}
