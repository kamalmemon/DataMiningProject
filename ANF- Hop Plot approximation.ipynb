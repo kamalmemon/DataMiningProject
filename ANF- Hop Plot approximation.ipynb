{
 "cells": [
  {
   "cell_type": "code",
   "execution_count": 15,
   "metadata": {},
   "outputs": [],
   "source": [
    "import networkit as nt\n",
    "from networkit import *\n",
    "import time"
   ]
  },
  {
   "cell_type": "code",
   "execution_count": 35,
   "metadata": {},
   "outputs": [
    {
     "name": "stdout",
     "output_type": "stream",
     "text": [
      "CPU times: user 41.5 s, sys: 248 ms, total: 41.7 s\n",
      "Wall time: 41.7 s\n"
     ]
    }
   ],
   "source": [
    "%%time\n",
    "G = readGraph('./data/pokec_edges_lwcc.txt',\n",
    "nt.Format.EdgeList, separator='\\t', commentPrefix ='#', continuous=False)"
   ]
  },
  {
   "cell_type": "code",
   "execution_count": 36,
   "metadata": {
    "collapsed": true
   },
   "outputs": [],
   "source": [
    "l = nt.distance.HopPlotApproximation(G, k=256, r = 140)"
   ]
  },
  {
   "cell_type": "code",
   "execution_count": 37,
   "metadata": {},
   "outputs": [
    {
     "name": "stdout",
     "output_type": "stream",
     "text": [
      "CPU times: user 3min 4s, sys: 680 ms, total: 3min 5s\n",
      "Wall time: 3min 5s\n"
     ]
    },
    {
     "data": {
      "text/plain": [
       "<networkit._NetworKit.HopPlotApproximation at 0x7f9ad95bb0f0>"
      ]
     },
     "execution_count": 37,
     "metadata": {},
     "output_type": "execute_result"
    }
   ],
   "source": [
    "%%time\n",
    "l.run()"
   ]
  },
  {
   "cell_type": "code",
   "execution_count": 38,
   "metadata": {
    "scrolled": true
   },
   "outputs": [],
   "source": [
    "hplt = l.getHopPlot()"
   ]
  },
  {
   "cell_type": "code",
   "execution_count": 39,
   "metadata": {},
   "outputs": [
    {
     "data": {
      "text/plain": [
       "{0: 0.0,\n",
       " 1: 1.7673036595837734e-05,\n",
       " 2: 0.001200775654261972,\n",
       " 3: 0.04598475650306417,\n",
       " 4: 0.44271679621784754,\n",
       " 5: 1.0,\n",
       " 6: 1.0,\n",
       " 7: 1.0,\n",
       " 8: 1.0,\n",
       " 9: 1.0,\n",
       " 10: 1.0}"
      ]
     },
     "execution_count": 39,
     "metadata": {},
     "output_type": "execute_result"
    }
   ],
   "source": [
    "hplt"
   ]
  },
  {
   "cell_type": "code",
   "execution_count": 40,
   "metadata": {},
   "outputs": [
    {
     "data": {
      "text/plain": [
       "1632803"
      ]
     },
     "execution_count": 40,
     "metadata": {},
     "output_type": "execute_result"
    }
   ],
   "source": [
    "# Number of nodes in the component\n",
    "NUMBER_OF_NODES = len(G.nodes());\n",
    "NUMBER_OF_NODES"
   ]
  },
  {
   "cell_type": "code",
   "execution_count": 41,
   "metadata": {},
   "outputs": [
    {
     "name": "stdout",
     "output_type": "stream",
     "text": [
      "Total nodes:  1632803.0\n",
      "Cummulative Nodes: \n",
      "d1 28.85658717279364\n",
      "d2 1960.6300906059105\n",
      "d3 75084.04837247268\n",
      "d4 722869.3130148901\n",
      "d5 1632803.0\n",
      "d6 1304537.0\n",
      "FM_Mean:  4.51007999858823\n",
      "Median node:  816401.5\n"
     ]
    }
   ],
   "source": [
    "\n",
    "\n",
    "d1 = NUMBER_OF_NODES * 1.7673036595837734e-05;\n",
    "d2 = NUMBER_OF_NODES * 0.001200775654261972;\n",
    "d3 = NUMBER_OF_NODES * 0.04598475650306417; \n",
    "d4 = NUMBER_OF_NODES * 0.44271679621784754;\n",
    "d5 = NUMBER_OF_NODES * 1.0;\n",
    "#d6 = NUMBER_OF_NODES * 1.0;\n",
    "\n",
    "d2orig = d2 - d1;\n",
    "d3orig = d3 - d2;\n",
    "d4orig = d4 - d3;\n",
    "d5orig = d5 - d4;\n",
    "#d6orig = d6 - d5;\n",
    "\n",
    "total_nodes = d1 + d2orig + d3orig + d4orig + d5orig# + d6orig\n",
    "print('Total nodes: ', total_nodes)\n",
    "#+ d4orig*4 + d5orig*5 + d6orig*6 \n",
    "fm_mean = (d1*1 + d2orig*2 + d3orig*3 + d4orig*4 + d5orig*5) / (total_nodes)\n",
    "\n",
    "\n",
    "median_node = NUMBER_OF_NODES/ 2;\n",
    "\n",
    "print ('Cummulative Nodes: ')\n",
    "print ('d1', d1);\n",
    "print ('d2', d2);\n",
    "print ('d3', d3);\n",
    "print ('d4', d4);\n",
    "print ('d5', d5);\n",
    "print ('d6', d6);\n",
    "\n",
    "\n",
    "print('FM_Mean: ', fm_mean)\n",
    "print('Median node: ', median_node)\n",
    "\n"
   ]
  }
 ],
 "metadata": {
  "kernelspec": {
   "display_name": "Python 3",
   "language": "python",
   "name": "python3"
  },
  "language_info": {
   "codemirror_mode": {
    "name": "ipython",
    "version": 3
   },
   "file_extension": ".py",
   "mimetype": "text/x-python",
   "name": "python",
   "nbconvert_exporter": "python",
   "pygments_lexer": "ipython3",
   "version": "3.6.3"
  }
 },
 "nbformat": 4,
 "nbformat_minor": 2
}
