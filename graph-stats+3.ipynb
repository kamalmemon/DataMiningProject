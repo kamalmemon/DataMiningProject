{
 "cells": [
  {
   "cell_type": "code",
   "execution_count": 1,
   "metadata": {
    "collapsed": true
   },
   "outputs": [],
   "source": [
    "import networkx as nx\n",
    "import matplotlib.pyplot as plt\n",
    "import numpy as np\n",
    "import time\n",
    "import random"
   ]
  },
  {
   "cell_type": "code",
   "execution_count": 2,
   "metadata": {
    "collapsed": true
   },
   "outputs": [],
   "source": [
    "FILE_PATH_PREFIX = './data/'\n",
    "comments = '#'\n",
    "delimiter = ' '"
   ]
  },
  {
   "cell_type": "code",
   "execution_count": 3,
   "metadata": {},
   "outputs": [
    {
     "name": "stdout",
     "output_type": "stream",
     "text": [
      "CPU times: user 31 s, sys: 788 ms, total: 31.8 s\n",
      "Wall time: 31.8 s\n"
     ]
    }
   ],
   "source": [
    "%%time\n",
    "lscc = nx.read_edgelist(FILE_PATH_PREFIX + 'gplus_edges_lscc.txt', \n",
    "                     comments=comments, delimiter=delimiter, \n",
    "                     nodetype=float,create_using=nx.DiGraph())"
   ]
  },
  {
   "cell_type": "code",
   "execution_count": 4,
   "metadata": {},
   "outputs": [
    {
     "name": "stdout",
     "output_type": "stream",
     "text": [
      "CPU times: user 44.9 s, sys: 976 ms, total: 45.9 s\n",
      "Wall time: 45.9 s\n"
     ]
    }
   ],
   "source": [
    "%%time\n",
    "lwcc = nx.read_edgelist(FILE_PATH_PREFIX + 'gplus_edges_lwcc.txt', \n",
    "                     comments=comments, delimiter=delimiter,\n",
    "                     nodetype=float,create_using=nx.DiGraph())"
   ]
  },
  {
   "cell_type": "code",
   "execution_count": 5,
   "metadata": {
    "collapsed": true
   },
   "outputs": [],
   "source": [
    "def getRandomShortestPathDistribution(ccGraph, numOfSamples):\n",
    "    graphnodes = list(ccGraph.nodes())\n",
    "    nodesLength = len(graphnodes)-1\n",
    "    shortestPaths = []\n",
    "    for i in range(numOfSamples):\n",
    "        try:\n",
    "            shortestPaths.append(nx.shortest_path_length(ccGraph, \n",
    "                                                     graphnodes[random.randint(0, nodesLength)],\n",
    "                                                     graphnodes[random.randint(0, nodesLength)])) \n",
    "        except:\n",
    "            pass\n",
    "    return np.array(shortestPaths)"
   ]
  },
  {
   "cell_type": "code",
   "execution_count": 6,
   "metadata": {
    "collapsed": true
   },
   "outputs": [],
   "source": [
    "def getRandomSourcesSPDistribution(ccGraph, numOfSamples):\n",
    "    graphnodes = list(ccGraph.nodes())\n",
    "    nodesLength = len(graphnodes)-1\n",
    "    shortestPaths = []\n",
    "    for i in range(numOfSamples):\n",
    "        try:\n",
    "            shortestPaths = shortestPaths + list(nx.single_source_shortest_path_length(\n",
    "                ccGraph,\n",
    "                graphnodes[random.randint(0, nodesLength)]).values())[1:]\n",
    "        except:\n",
    "            pass\n",
    "    return np.array(shortestPaths)"
   ]
  },
  {
   "cell_type": "code",
   "execution_count": 7,
   "metadata": {
    "collapsed": true
   },
   "outputs": [],
   "source": [
    "def getStatisticsForDistribution(dist):\n",
    "    dist_mean = np.mean(dist);\n",
    "    dist_median = np.percentile(dist, 50);\n",
    "    dist_diameter = max(dist);\n",
    "    dist_eff_diameter = np.percentile(dist, 90);\n",
    "    return dist_mean, dist_median, dist_diameter, dist_eff_diameter "
   ]
  },
  {
   "cell_type": "markdown",
   "metadata": {},
   "source": [
    "### Random Pairs LSCC Stats"
   ]
  },
  {
   "cell_type": "code",
   "execution_count": 9,
   "metadata": {},
   "outputs": [
    {
     "name": "stdout",
     "output_type": "stream",
     "text": [
      "3.30025\n",
      "3.0\n",
      "9\n",
      "4.0\n",
      "CPU times: user 47.5 s, sys: 4 ms, total: 47.5 s\n",
      "Wall time: 47.5 s\n"
     ]
    }
   ],
   "source": [
    "%%time\n",
    "mean, median, diameter, eff_diameter = getStatisticsForDistribution(\n",
    "    getRandomShortestPathDistribution(lscc, 100000));\n",
    "print(mean);\n",
    "print(median);\n",
    "print(diameter);\n",
    "print(eff_diameter);"
   ]
  },
  {
   "cell_type": "markdown",
   "metadata": {},
   "source": [
    "### Random Pairs LWCC Stats"
   ]
  },
  {
   "cell_type": "code",
   "execution_count": 11,
   "metadata": {},
   "outputs": [
    {
     "name": "stdout",
     "output_type": "stream",
     "text": [
      "3.26923076923\n",
      "3.0\n",
      "6\n",
      "4.0\n",
      "CPU times: user 1min 34s, sys: 64 ms, total: 1min 34s\n",
      "Wall time: 1min 34s\n"
     ]
    }
   ],
   "source": [
    "%%time\n",
    "mean, median, diameter, eff_diameter = getStatisticsForDistribution(\n",
    "    getRandomShortestPathDistribution(lwcc, 100000));\n",
    "print(mean);\n",
    "print(median);\n",
    "print(diameter);\n",
    "print(eff_diameter);"
   ]
  },
  {
   "cell_type": "markdown",
   "metadata": {},
   "source": [
    "### Random Sources BFS LSCC"
   ]
  },
  {
   "cell_type": "code",
   "execution_count": 9,
   "metadata": {},
   "outputs": [
    {
     "name": "stdout",
     "output_type": "stream",
     "text": [
      "3.46251654676\n",
      "3.0\n",
      "9\n",
      "4.0\n",
      "CPU times: user 37.2 s, sys: 44 ms, total: 37.2 s\n",
      "Wall time: 37.2 s\n"
     ]
    }
   ],
   "source": [
    "%%time\n",
    "mean, median, diameter, eff_diameter = getStatisticsForDistribution(\n",
    "    getRandomSourcesSPDistribution(lscc, 100));\n",
    "print(mean);\n",
    "print(median);\n",
    "print(diameter);\n",
    "print(eff_diameter);"
   ]
  },
  {
   "cell_type": "markdown",
   "metadata": {},
   "source": [
    "### Random Sources BFS LWCC"
   ]
  },
  {
   "cell_type": "code",
   "execution_count": 10,
   "metadata": {},
   "outputs": [
    {
     "name": "stdout",
     "output_type": "stream",
     "text": [
      "3.15322725995\n",
      "3.0\n",
      "13\n",
      "4.0\n",
      "CPU times: user 16.1 s, sys: 24 ms, total: 16.2 s\n",
      "Wall time: 16.2 s\n"
     ]
    }
   ],
   "source": [
    "%%time\n",
    "mean, median, diameter, eff_diameter = getStatisticsForDistribution(\n",
    "    getRandomSourcesSPDistribution(lwcc, 100));\n",
    "print(mean);\n",
    "print(median);\n",
    "print(diameter);\n",
    "print(eff_diameter);"
   ]
  }
 ],
 "metadata": {
  "kernelspec": {
   "display_name": "Python 3",
   "language": "python",
   "name": "python3"
  },
  "language_info": {
   "codemirror_mode": {
    "name": "ipython",
    "version": 3
   },
   "file_extension": ".py",
   "mimetype": "text/x-python",
   "name": "python",
   "nbconvert_exporter": "python",
   "pygments_lexer": "ipython3",
   "version": "3.6.3"
  }
 },
 "nbformat": 4,
 "nbformat_minor": 2
}
