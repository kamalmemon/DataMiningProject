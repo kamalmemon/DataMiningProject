{
 "cells": [
  {
   "cell_type": "code",
   "execution_count": 1,
   "metadata": {
    "collapsed": true
   },
   "outputs": [],
   "source": [
    "import networkx as nx\n",
    "import matplotlib.pyplot as plt\n",
    "import numpy as np\n",
    "import time\n",
    "import random"
   ]
  },
  {
   "cell_type": "code",
   "execution_count": 2,
   "metadata": {
    "collapsed": true
   },
   "outputs": [],
   "source": [
    "FILE_PATH_PREFIX = './data/'\n",
    "comments = ' '\n",
    "delimiter = '\\t'"
   ]
  },
  {
   "cell_type": "code",
   "execution_count": 5,
   "metadata": {},
   "outputs": [
    {
     "name": "stdout",
     "output_type": "stream",
     "text": [
      "CPU times: user 1.53 s, sys: 8 ms, total: 1.54 s\n",
      "Wall time: 1.54 s\n"
     ]
    }
   ],
   "source": [
    "%%time\n",
    "lscc = nx.read_edgelist(FILE_PATH_PREFIX + 'soc_edges_lscc.txt', \n",
    "                     comments=comments, delimiter=delimiter, \n",
    "                     nodetype=int,create_using=nx.DiGraph())"
   ]
  },
  {
   "cell_type": "code",
   "execution_count": 6,
   "metadata": {},
   "outputs": [
    {
     "name": "stdout",
     "output_type": "stream",
     "text": [
      "CPU times: user 1.61 s, sys: 24 ms, total: 1.64 s\n",
      "Wall time: 1.63 s\n"
     ]
    }
   ],
   "source": [
    "%%time\n",
    "lwcc = nx.read_edgelist(FILE_PATH_PREFIX + 'soc_edges_lwcc.txt', \n",
    "                     comments=comments, delimiter=delimiter, \n",
    "                     nodetype=int,create_using=nx.DiGraph())"
   ]
  },
  {
   "cell_type": "code",
   "execution_count": 10,
   "metadata": {
    "collapsed": true
   },
   "outputs": [],
   "source": [
    "def readEdgeFromFile(filename, comments=' ', delimiter='\\t'):\n",
    "    G = nx.read_edgelist(FILE_PATH_PREFIX + filename, comments=comments, \n",
    "                         delimiter=delimiter, nodetype=float,create_using=nx.DiGraph())\n",
    "    unG = G.to_undirected();\n",
    "    return G, unG;"
   ]
  },
  {
   "cell_type": "code",
   "execution_count": 11,
   "metadata": {
    "collapsed": true
   },
   "outputs": [],
   "source": [
    "def getRandomShortestPathDistribution(ccGraph, numOfSamples):\n",
    "    graphnodes = list(ccGraph.nodes())\n",
    "    nodesLength = len(graphnodes)-1\n",
    "    shortestPaths = []\n",
    "    for i in range(numOfSamples):\n",
    "        try:\n",
    "            shortestPaths.append(nx.shortest_path_length(ccGraph, \n",
    "                                                     graphnodes[random.randint(0, nodesLength)],\n",
    "                                                     graphnodes[random.randint(0, nodesLength)]))\n",
    "        except:\n",
    "            pass\n",
    "    return np.array(shortestPaths)"
   ]
  },
  {
   "cell_type": "code",
   "execution_count": 12,
   "metadata": {
    "collapsed": true
   },
   "outputs": [],
   "source": [
    "def getRandomSourcesSPDistribution(ccGraph, numOfSamples):\n",
    "    graphnodes = list(ccGraph.nodes())\n",
    "    nodesLength = len(graphnodes)-1\n",
    "    shortestPaths = []\n",
    "    for i in range(numOfSamples):\n",
    "        try:\n",
    "            shortestPaths = shortestPaths + list(nx.single_source_shortest_path_length(\n",
    "                ccGraph,\n",
    "                graphnodes[random.randint(0, nodesLength)]).values())[1:]\n",
    "        except:\n",
    "            pass\n",
    "    return np.array(shortestPaths)"
   ]
  },
  {
   "cell_type": "code",
   "execution_count": 13,
   "metadata": {
    "collapsed": true
   },
   "outputs": [],
   "source": [
    "def getStatisticsForDistribution(dist):\n",
    "    dist_mean = np.mean(dist);\n",
    "    dist_median = np.percentile(dist, 50);\n",
    "    dist_diameter = max(dist);\n",
    "    dist_eff_diameter = np.percentile(dist, 90);\n",
    "    return dist_mean, dist_median, dist_diameter, dist_eff_diameter "
   ]
  },
  {
   "cell_type": "markdown",
   "metadata": {},
   "source": [
    "### Random LSCC Stats"
   ]
  },
  {
   "cell_type": "code",
   "execution_count": 43,
   "metadata": {
    "scrolled": true
   },
   "outputs": [
    {
     "name": "stdout",
     "output_type": "stream",
     "text": [
      "4.410875\n",
      "4.0\n",
      "11\n",
      "6.0\n",
      "CPU times: user 2.87 s, sys: 4 ms, total: 2.87 s\n",
      "Wall time: 2.87 s\n"
     ]
    }
   ],
   "source": [
    "%%time\n",
    "mean, median, diameter, eff_diameter = getStatisticsForDistribution(\n",
    "    getRandomShortestPathDistribution(lscc, 40000));\n",
    "print(mean);\n",
    "print(median);\n",
    "print(diameter);\n",
    "print(eff_diameter);"
   ]
  },
  {
   "cell_type": "markdown",
   "metadata": {},
   "source": [
    "### Random LWCC Stats"
   ]
  },
  {
   "cell_type": "code",
   "execution_count": 47,
   "metadata": {},
   "outputs": [
    {
     "name": "stdout",
     "output_type": "stream",
     "text": [
      "4.45299145299\n",
      "4.0\n",
      "12\n",
      "6.0\n",
      "CPU times: user 19.4 s, sys: 0 ns, total: 19.4 s\n",
      "Wall time: 19.4 s\n"
     ]
    }
   ],
   "source": [
    "%%time\n",
    "mean, median, diameter, eff_diameter = getStatisticsForDistribution(\n",
    "    getRandomShortestPathDistribution(lwcc, 40000));\n",
    "print(mean);\n",
    "print(median);\n",
    "print(diameter);\n",
    "print(eff_diameter);"
   ]
  },
  {
   "cell_type": "markdown",
   "metadata": {},
   "source": [
    "### Random Sources BFS LSCC"
   ]
  },
  {
   "cell_type": "code",
   "execution_count": 26,
   "metadata": {},
   "outputs": [
    {
     "name": "stdout",
     "output_type": "stream",
     "text": [
      "4.41455527279\n",
      "4.0\n",
      "11\n",
      "6.0\n",
      "CPU times: user 10.6 s, sys: 8 ms, total: 10.7 s\n",
      "Wall time: 10.6 s\n"
     ]
    }
   ],
   "source": [
    "%%time\n",
    "mean, median, diameter, eff_diameter = getStatisticsForDistribution(\n",
    "    getRandomSourcesSPDistribution(lscc, 50));\n",
    "print(mean);\n",
    "print(median);\n",
    "print(diameter);\n",
    "print(eff_diameter);"
   ]
  },
  {
   "cell_type": "markdown",
   "metadata": {},
   "source": [
    "### Random Sources BFS LWCC"
   ]
  },
  {
   "cell_type": "code",
   "execution_count": 39,
   "metadata": {},
   "outputs": [
    {
     "name": "stdout",
     "output_type": "stream",
     "text": [
      "4.36385241173\n",
      "4.0\n",
      "16\n",
      "6.0\n",
      "CPU times: user 1.32 s, sys: 4 ms, total: 1.32 s\n",
      "Wall time: 1.32 s\n"
     ]
    }
   ],
   "source": [
    "%%time\n",
    "mean, median, diameter, eff_diameter = getStatisticsForDistribution(\n",
    "    getRandomSourcesSPDistribution(lwcc, 50));\n",
    "print(mean);\n",
    "print(median);\n",
    "print(diameter);\n",
    "print(eff_diameter);"
   ]
  },
  {
   "cell_type": "markdown",
   "metadata": {},
   "source": [
    "## EXACT STATISTICS"
   ]
  },
  {
   "cell_type": "markdown",
   "metadata": {},
   "source": [
    "### The following exact stats were calcualted using force.aalto.fi\n",
    "### The code script for the generation of these stats is in the same folder named: exact_statistics.py"
   ]
  },
  {
   "cell_type": "markdown",
   "metadata": {},
   "source": [
    "### Exact LWCC Stats"
   ]
  },
  {
   "cell_type": "markdown",
   "metadata": {},
   "source": [
    "EXACT LWCC Mean: 4.4536130778 \n",
    "\n",
    "EXACT LWCC Median: 4.0 \n",
    "\n",
    "EXACT LWCC Diameter: 19\n",
    "\n",
    "EXACT LWCC Effective Diameter: 6.0"
   ]
  },
  {
   "cell_type": "markdown",
   "metadata": {},
   "source": [
    "### Exact LSCC Stats"
   ]
  },
  {
   "cell_type": "markdown",
   "metadata": {},
   "source": [
    "EXACT LSCC Mean: 4.4048\n",
    "\n",
    "EXACT LSCC Median: 4.0 \n",
    "\n",
    "EXACT LSCC Diameter: 16\n",
    "\n",
    "EXACT LSCC Effective Diameter: 6.0"
   ]
  }
 ],
 "metadata": {
  "kernelspec": {
   "display_name": "Python 3",
   "language": "python",
   "name": "python3"
  },
  "language_info": {
   "codemirror_mode": {
    "name": "ipython",
    "version": 3
   },
   "file_extension": ".py",
   "mimetype": "text/x-python",
   "name": "python",
   "nbconvert_exporter": "python",
   "pygments_lexer": "ipython3",
   "version": "3.6.3"
  }
 },
 "nbformat": 4,
 "nbformat_minor": 2
}
