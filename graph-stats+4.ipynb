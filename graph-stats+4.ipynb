{
 "cells": [
  {
   "cell_type": "code",
   "execution_count": 1,
   "metadata": {
    "collapsed": true
   },
   "outputs": [],
   "source": [
    "import networkx as nx\n",
    "import matplotlib.pyplot as plt\n",
    "import numpy as np\n",
    "import time\n",
    "import random"
   ]
  },
  {
   "cell_type": "code",
   "execution_count": 2,
   "metadata": {
    "collapsed": true
   },
   "outputs": [],
   "source": [
    "FILE_PATH_PREFIX = './data/'\n",
    "comments = '#'\n",
    "delimiter = '\\t'"
   ]
  },
  {
   "cell_type": "code",
   "execution_count": 3,
   "metadata": {},
   "outputs": [
    {
     "name": "stdout",
     "output_type": "stream",
     "text": [
      "CPU times: user 1min 49s, sys: 2.31 s, total: 1min 52s\n",
      "Wall time: 1min 52s\n"
     ]
    }
   ],
   "source": [
    "%%time\n",
    "lscc = nx.read_edgelist(FILE_PATH_PREFIX + 'pokec_edges_lscc.txt', \n",
    "                     comments=comments, delimiter=delimiter, \n",
    "                     nodetype=float,create_using=nx.DiGraph())"
   ]
  },
  {
   "cell_type": "code",
   "execution_count": 4,
   "metadata": {},
   "outputs": [
    {
     "name": "stdout",
     "output_type": "stream",
     "text": [
      "CPU times: user 1min 20s, sys: 1.79 s, total: 1min 22s\n",
      "Wall time: 1min 22s\n"
     ]
    }
   ],
   "source": [
    "%%time\n",
    "lwcc = nx.read_edgelist(FILE_PATH_PREFIX + 'soc-pokec-relationships_lwcc.tsv', \n",
    "                     comments=comments, delimiter=delimiter,\n",
    "                     nodetype=float)"
   ]
  },
  {
   "cell_type": "code",
   "execution_count": 6,
   "metadata": {},
   "outputs": [
    {
     "data": {
      "text/plain": [
       "22301964"
      ]
     },
     "execution_count": 6,
     "metadata": {},
     "output_type": "execute_result"
    }
   ],
   "source": [
    "len(lwcc.edges())"
   ]
  },
  {
   "cell_type": "code",
   "execution_count": 5,
   "metadata": {
    "collapsed": true
   },
   "outputs": [],
   "source": [
    "def getRandomShortestPathDistribution(ccGraph, numOfSamples):\n",
    "    graphnodes = list(ccGraph.nodes())\n",
    "    nodesLength = len(graphnodes)-1\n",
    "    shortestPaths = []\n",
    "    for i in range(numOfSamples):\n",
    "        shortestPaths.append(nx.shortest_path_length(ccGraph, \n",
    "                                                     graphnodes[random.randint(0, nodesLength)],\n",
    "                                                     graphnodes[random.randint(0, nodesLength)]))   \n",
    "    return np.array(shortestPaths)"
   ]
  },
  {
   "cell_type": "code",
   "execution_count": 6,
   "metadata": {
    "collapsed": true
   },
   "outputs": [],
   "source": [
    "def getRandomSourcesSPDistribution(ccGraph, numOfSamples):\n",
    "    graphnodes = list(ccGraph.nodes())\n",
    "    nodesLength = len(graphnodes)-1\n",
    "    shortestPaths = []\n",
    "    for i in range(numOfSamples):\n",
    "        try:\n",
    "            shortestPaths = shortestPaths + list(nx.single_source_shortest_path_length(\n",
    "                ccGraph,\n",
    "                graphnodes[random.randint(0, nodesLength)]).values())[1:]\n",
    "        except:\n",
    "            pass\n",
    "    return np.array(shortestPaths)                    "
   ]
  },
  {
   "cell_type": "code",
   "execution_count": 7,
   "metadata": {
    "collapsed": true
   },
   "outputs": [],
   "source": [
    "def getStatisticsForDistribution(dist):\n",
    "    dist_mean = np.mean(dist);\n",
    "    dist_median = np.percentile(dist, 50);\n",
    "    dist_diameter = max(dist);\n",
    "    dist_eff_diameter = np.percentile(dist, 90);\n",
    "    return dist_mean, dist_median, dist_diameter, dist_eff_diameter "
   ]
  },
  {
   "cell_type": "markdown",
   "metadata": {},
   "source": [
    "### Random Pairs LSCC Stats"
   ]
  },
  {
   "cell_type": "code",
   "execution_count": 12,
   "metadata": {},
   "outputs": [
    {
     "name": "stdout",
     "output_type": "stream",
     "text": [
      "5.11009\n",
      "5.0\n",
      "11\n",
      "6.0\n",
      "CPU times: user 1min 48s, sys: 8 ms, total: 1min 48s\n",
      "Wall time: 1min 48s\n"
     ]
    }
   ],
   "source": [
    "%%time\n",
    "mean, median, diameter, eff_diameter = getStatisticsForDistribution(\n",
    "    getRandomShortestPathDistribution(lscc, 100000));\n",
    "print(mean);\n",
    "print(median);\n",
    "print(diameter);\n",
    "print(eff_diameter);"
   ]
  },
  {
   "cell_type": "markdown",
   "metadata": {},
   "source": [
    "### Random Sources BFS LSCC"
   ]
  },
  {
   "cell_type": "code",
   "execution_count": 9,
   "metadata": {},
   "outputs": [
    {
     "name": "stdout",
     "output_type": "stream",
     "text": [
      "5.09969330091\n",
      "5.0\n",
      "13\n",
      "6.0\n",
      "CPU times: user 3min 9s, sys: 324 ms, total: 3min 9s\n",
      "Wall time: 3min 9s\n"
     ]
    }
   ],
   "source": [
    "%%time\n",
    "mean, median, diameter, eff_diameter = getStatisticsForDistribution(\n",
    "    getRandomSourcesSPDistribution(lscc, 100));\n",
    "print(mean);\n",
    "print(median);\n",
    "print(diameter);\n",
    "print(eff_diameter);"
   ]
  },
  {
   "cell_type": "markdown",
   "metadata": {},
   "source": [
    "### Random Pairs LWCC Stats"
   ]
  },
  {
   "cell_type": "code",
   "execution_count": 13,
   "metadata": {},
   "outputs": [
    {
     "name": "stdout",
     "output_type": "stream",
     "text": [
      "4.68295\n",
      "5.0\n",
      "9\n",
      "6.0\n",
      "CPU times: user 1min 26s, sys: 0 ns, total: 1min 26s\n",
      "Wall time: 1min 26s\n"
     ]
    }
   ],
   "source": [
    "%%time\n",
    "mean, median, diameter, eff_diameter = getStatisticsForDistribution(\n",
    "    getRandomShortestPathDistribution(lwcc, 100000));\n",
    "print(mean);\n",
    "print(median);\n",
    "print(diameter);\n",
    "print(eff_diameter);"
   ]
  },
  {
   "cell_type": "markdown",
   "metadata": {},
   "source": [
    "### Random Sources BFS LWCC"
   ]
  },
  {
   "cell_type": "code",
   "execution_count": 10,
   "metadata": {},
   "outputs": [
    {
     "name": "stdout",
     "output_type": "stream",
     "text": [
      "4.47349788891\n",
      "4.0\n",
      "10\n",
      "5.0\n",
      "CPU times: user 5min 7s, sys: 564 ms, total: 5min 8s\n",
      "Wall time: 5min 8s\n"
     ]
    }
   ],
   "source": [
    "%%time\n",
    "mean, median, diameter, eff_diameter = getStatisticsForDistribution(\n",
    "    getRandomSourcesSPDistribution(lwcc, 100));\n",
    "print(mean);\n",
    "print(median);\n",
    "print(diameter);\n",
    "print(eff_diameter);"
   ]
  }
 ],
 "metadata": {
  "kernelspec": {
   "display_name": "Python 3",
   "language": "python",
   "name": "python3"
  },
  "language_info": {
   "codemirror_mode": {
    "name": "ipython",
    "version": 3
   },
   "file_extension": ".py",
   "mimetype": "text/x-python",
   "name": "python",
   "nbconvert_exporter": "python",
   "pygments_lexer": "ipython3",
   "version": "3.6.3"
  }
 },
 "nbformat": 4,
 "nbformat_minor": 2
}
